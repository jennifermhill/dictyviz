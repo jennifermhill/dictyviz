{
 "cells": [
  {
   "cell_type": "code",
   "execution_count": 1,
   "metadata": {},
   "outputs": [],
   "source": [
    "import sys, os, zarr, importlib\n",
    "sys.path.insert(0,'Y:\\\\jennifer\\\\dictyviz')\n",
    "import dictyviz as dv\n",
    "from dictyviz import channel"
   ]
  },
  {
   "cell_type": "code",
   "execution_count": 2,
   "metadata": {},
   "outputs": [],
   "source": [
    "os.chdir('Y:\\\\jennifer\\\\cryolite\\\\cryolite_mixin_test65_2024-04-16\\\\WS205_overnight_day2')\n",
    "zarrFile = '2024-04-17_ERH_mixin65_plate2_WS205_overnight_day2_ERH Red FarRed_crop2.zarr'\n",
    "\n",
    "# define channels\n",
    "cells = 0\n",
    "rocks = 1"
   ]
  },
  {
   "cell_type": "code",
   "execution_count": 3,
   "metadata": {},
   "outputs": [
    {
     "name": "stderr",
     "output_type": "stream",
     "text": [
      "Y:\\jennifer\\dictyviz\\dictyviz.py:16: FutureWarning: The NestedDirectoryStore is deprecated and will be removed in a Zarr-Python version 3, see https://github.com/zarr-developers/zarr-python/issues/1274 for more information.\n",
      "  nestedStore = zarr.NestedDirectoryStore(zarrFile, dimension_separator='/')\n"
     ]
    },
    {
     "data": {
      "text/plain": [
       "<zarr.hierarchy.Group '/analysis'>"
      ]
     },
     "execution_count": 3,
     "metadata": {},
     "output_type": "execute_result"
    }
   ],
   "source": [
    "dv.createRootStore(zarrFile)\n",
    "root = zarr.open(zarrFile, mode='r+')\n",
    "\n",
    "dv.createZarrGroup(root, 'analysis')\n"
   ]
  },
  {
   "cell_type": "code",
   "execution_count": null,
   "metadata": {},
   "outputs": [
    {
     "name": "stdout",
     "output_type": "stream",
     "text": [
      "Max projections calculated\n"
     ]
    }
   ],
   "source": [
    "dv.calcMaxProjections(root, res_lvl=0)\n",
    "dv.calcSlicedMaxProjections(root, res_lvl=0)\n",
    "print('Max projections calculated')"
   ]
  },
  {
   "cell_type": "code",
   "execution_count": 4,
   "metadata": {},
   "outputs": [],
   "source": [
    "dv.createZarrGroup(root, 'movies')\n",
    "os.chdir(zarrFile + '\\\\movies')\n"
   ]
  },
  {
   "cell_type": "code",
   "execution_count": 5,
   "metadata": {},
   "outputs": [],
   "source": [
    "cells = channel(name='cells', nChannel=0, scaleMax=10000)\n",
    "rocks = channel(name='rocks', nChannel=1, scaleMax=60000)\n",
    "channels = [cells, rocks]"
   ]
  },
  {
   "cell_type": "code",
   "execution_count": 7,
   "metadata": {},
   "outputs": [
    {
     "name": "stderr",
     "output_type": "stream",
     "text": [
      "100%|██████████| 139/139 [00:08<00:00, 17.18it/s]\n",
      "100%|██████████| 139/139 [00:03<00:00, 36.89it/s]\n",
      "100%|██████████| 139/139 [00:07<00:00, 17.61it/s]\n",
      "100%|██████████| 139/139 [00:06<00:00, 22.57it/s]\n",
      "100%|██████████| 139/139 [00:06<00:00, 22.85it/s]"
     ]
    },
    {
     "name": "stdout",
     "output_type": "stream",
     "text": [
      "Ortho max videos created\n"
     ]
    },
    {
     "name": "stderr",
     "output_type": "stream",
     "text": [
      "\n"
     ]
    }
   ],
   "source": [
    "dv.makeOrthoMaxVideo(root, cells)\n",
    "dv.makeOrthoMaxVideo(root, rocks)\n",
    "dv.makeCompOrthoMaxVideo(root, [cells, rocks])\n",
    "dv.makeSlicedOrthoMaxVideos(root, cells)\n",
    "print('Ortho max videos created')"
   ]
  },
  {
   "cell_type": "code",
   "execution_count": null,
   "metadata": {},
   "outputs": [],
   "source": []
  }
 ],
 "metadata": {
  "kernelspec": {
   "display_name": "dictyviz",
   "language": "python",
   "name": "python3"
  },
  "language_info": {
   "codemirror_mode": {
    "name": "ipython",
    "version": 3
   },
   "file_extension": ".py",
   "mimetype": "text/x-python",
   "name": "python",
   "nbconvert_exporter": "python",
   "pygments_lexer": "ipython3",
   "version": "3.12.9"
  }
 },
 "nbformat": 4,
 "nbformat_minor": 2
}
