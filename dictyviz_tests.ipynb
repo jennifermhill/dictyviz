{
 "cells": [
  {
   "cell_type": "code",
   "execution_count": null,
   "metadata": {},
   "outputs": [],
   "source": [
    "import sys\n",
    "import os\n",
    "import zarr\n",
    "\n",
    "sys.path.insert(0,'Y:\\\\jennifer\\\\dictyviz')\n",
    "import dictyviz as dv\n",
    "from dictyviz import channel"
   ]
  },
  {
   "cell_type": "code",
   "execution_count": null,
   "metadata": {},
   "outputs": [],
   "source": [
    "os.chdir('Y:\\\\jennifer\\\\cryolite\\\\cryolite_mixin_test65_2024-04-16\\\\WS205_overnight_day2')\n",
    "zarrFile = '2024-04-17_ERH_mixin65_plate2_WS205_overnight_day2_ERH Red FarRed.zarr'\n",
    "\n",
    "# define channels\n",
    "cells = channel(name='cells', nChannel=0, scaleMax=10000)\n",
    "rocks = channel(name='rocks', nChannel=1, scaleMax=60000)\n",
    "channels = [cells, rocks]"
   ]
  },
  {
   "cell_type": "code",
   "execution_count": 56,
   "metadata": {},
   "outputs": [
    {
     "data": {
      "text/plain": [
       "<zarr.hierarchy.Group '/analysis'>"
      ]
     },
     "execution_count": 56,
     "metadata": {},
     "output_type": "execute_result"
    }
   ],
   "source": [
    "dv.createRootStore(zarrFile)\n",
    "root = zarr.open(zarrFile, mode='r+')\n",
    "\n",
    "dv.createZarrGroup(root, 'analysis')\n"
   ]
  },
  {
   "cell_type": "code",
   "execution_count": null,
   "metadata": {},
   "outputs": [
    {
     "name": "stderr",
     "output_type": "stream",
     "text": [
      "100%|██████████| 139/139 [10:58<00:00,  4.74s/it]"
     ]
    },
    {
     "name": "stdout",
     "output_type": "stream",
     "text": [
      "Max projections calculated\n"
     ]
    },
    {
     "name": "stderr",
     "output_type": "stream",
     "text": [
      "\n"
     ]
    }
   ],
   "source": [
    "dv.calcMaxProjections(root, res_lvl=0)\n",
    "dv.calcSlicedMaxProjections(root, res_lvl=0)\n",
    "print('Max projections calculated')"
   ]
  },
  {
   "cell_type": "code",
   "execution_count": 57,
   "metadata": {},
   "outputs": [],
   "source": [
    "dv.createZarrGroup(root, 'movies')\n",
    "os.chdir(zarrFile + '\\\\movies')\n"
   ]
  },
  {
   "cell_type": "code",
   "execution_count": null,
   "metadata": {},
   "outputs": [
    {
     "name": "stderr",
     "output_type": "stream",
     "text": [
      "100%|██████████| 139/139 [01:30<00:00,  1.54it/s]\n",
      "100%|██████████| 139/139 [01:36<00:00,  1.45it/s]"
     ]
    },
    {
     "name": "stdout",
     "output_type": "stream",
     "text": [
      "Ortho max videos created\n"
     ]
    },
    {
     "name": "stderr",
     "output_type": "stream",
     "text": [
      "\n"
     ]
    }
   ],
   "source": [
    "dv.makeOrthoMaxVideo(root, cells)\n",
    "dv.makeOrthoMaxVideo(root, rocks)\n",
    "dv.makeCompOrthoMaxVideo(root, [cells, rocks])\n",
    "dv.makeSlicedOrthoMaxVideos(root, cells)\n",
    "dv.makeSlicedOrthoMaxVideos(root, rocks)\n",
    "dv.makeZDepthOrthoMaxVideo(root, cells, 'gist_rainbow_r')\n",
    "dv.makeZDepthOrthoMaxVideo(root, rocks, 'gist_rainbow_r')\n",
    "print('Ortho max videos created')"
   ]
  }
 ],
 "metadata": {
  "kernelspec": {
   "display_name": "dictyviz",
   "language": "python",
   "name": "python3"
  },
  "language_info": {
   "codemirror_mode": {
    "name": "ipython",
    "version": 3
   },
   "file_extension": ".py",
   "mimetype": "text/x-python",
   "name": "python",
   "nbconvert_exporter": "python",
   "pygments_lexer": "ipython3",
   "version": "3.12.9"
  }
 },
 "nbformat": 4,
 "nbformat_minor": 2
}
