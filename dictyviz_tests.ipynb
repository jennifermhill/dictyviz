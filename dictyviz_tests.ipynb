{
 "cells": [
  {
   "cell_type": "code",
   "execution_count": 1,
   "metadata": {},
   "outputs": [],
   "source": [
    "import sys, os, zarr, importlib\n",
    "sys.path.insert(0,'Y:\\\\jennifer\\\\dictyviz')\n",
    "import dictyviz as dv\n",
    "from dictyviz import channel"
   ]
  },
  {
   "cell_type": "code",
   "execution_count": 4,
   "metadata": {},
   "outputs": [
    {
     "data": {
      "text/plain": [
       "<module 'dictyviz' from 'Y:\\\\jennifer\\\\dictyviz\\\\dictyviz.py'>"
      ]
     },
     "execution_count": 4,
     "metadata": {},
     "output_type": "execute_result"
    }
   ],
   "source": [
    "importlib.reload(dv)"
   ]
  },
  {
   "cell_type": "code",
   "execution_count": 6,
   "metadata": {},
   "outputs": [],
   "source": [
    "os.chdir('Y:\\\\jennifer\\\\John Data\\\\')\n",
    "zarrFile = '112224_NC281cryolite_wetSameDensity_0435pm_mov2_stitched.zarr'\n",
    "\n",
    "# define channels\n",
    "cells = 1\n",
    "rocks = 0"
   ]
  },
  {
   "cell_type": "code",
   "execution_count": 7,
   "metadata": {},
   "outputs": [
    {
     "name": "stderr",
     "output_type": "stream",
     "text": [
      "Y:\\jennifer\\dictyviz\\dictyviz.py:16: FutureWarning: The NestedDirectoryStore is deprecated and will be removed in a Zarr-Python version 3, see https://github.com/zarr-developers/zarr-python/issues/1274 for more information.\n",
      "  nestedStore = zarr.NestedDirectoryStore(zarrFile, dimension_separator='/')\n"
     ]
    },
    {
     "data": {
      "text/plain": [
       "<zarr.hierarchy.Group '/analysis'>"
      ]
     },
     "execution_count": 7,
     "metadata": {},
     "output_type": "execute_result"
    }
   ],
   "source": [
    "dv.createRootStore(zarrFile)\n",
    "root = zarr.open(zarrFile, mode='r+')\n",
    "\n",
    "dv.createZarrGroup(root, 'analysis')\n"
   ]
  },
  {
   "cell_type": "code",
   "execution_count": 23,
   "metadata": {},
   "outputs": [
    {
     "name": "stderr",
     "output_type": "stream",
     "text": [
      "100%|██████████| 133/133 [17:21<00:00,  7.83s/it]"
     ]
    },
    {
     "name": "stdout",
     "output_type": "stream",
     "text": [
      "Max projections calculated\n"
     ]
    },
    {
     "name": "stderr",
     "output_type": "stream",
     "text": [
      "\n"
     ]
    }
   ],
   "source": [
    "dv.calcMaxProjections(root, res_lvl=0)\n",
    "#dv.calcSlicedMaxProjections(root, cells, res_lvl=0)\n",
    "print('Max projections calculated')"
   ]
  },
  {
   "cell_type": "code",
   "execution_count": 8,
   "metadata": {},
   "outputs": [],
   "source": [
    "dv.createZarrGroup(root, 'movies')\n",
    "os.chdir(zarrFile + '\\\\movies')\n"
   ]
  },
  {
   "cell_type": "code",
   "execution_count": 9,
   "metadata": {},
   "outputs": [],
   "source": [
    "cells = channel(name='cells', nChannel=1, scaleMax=700)\n",
    "rocks = channel(name='rocks', nChannel=0, scaleMax=700)\n",
    "channelList = [cells, rocks]"
   ]
  },
  {
   "cell_type": "code",
   "execution_count": 10,
   "metadata": {},
   "outputs": [
    {
     "name": "stderr",
     "output_type": "stream",
     "text": [
      "100%|██████████| 39/39 [01:04<00:00,  1.65s/it]\n",
      "100%|██████████| 39/39 [00:59<00:00,  1.52s/it]"
     ]
    },
    {
     "name": "stdout",
     "output_type": "stream",
     "text": [
      "Ortho max videos created\n"
     ]
    },
    {
     "name": "stderr",
     "output_type": "stream",
     "text": [
      "\n"
     ]
    }
   ],
   "source": [
    "\n",
    "dv.makeOrthoMaxVideo(root, cells)\n",
    "dv.makeOrthoMaxVideo(root, rocks)\n",
    "#dv.makeCompOrthoMaxVideo('comp_orthomax.avi', root, 700, 700)\n",
    "# dv.makeSlicedOrthoMaxVideos('cells_sliced_orthomax.avi', root, scaleMax)\n",
    "print('Ortho max videos created')"
   ]
  },
  {
   "cell_type": "code",
   "execution_count": null,
   "metadata": {},
   "outputs": [],
   "source": []
  }
 ],
 "metadata": {
  "kernelspec": {
   "display_name": "dictyviz",
   "language": "python",
   "name": "python3"
  },
  "language_info": {
   "codemirror_mode": {
    "name": "ipython",
    "version": 3
   },
   "file_extension": ".py",
   "mimetype": "text/x-python",
   "name": "python",
   "nbconvert_exporter": "python",
   "pygments_lexer": "ipython3",
   "version": "3.12.9"
  }
 },
 "nbformat": 4,
 "nbformat_minor": 2
}
